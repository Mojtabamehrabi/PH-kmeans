{
  "nbformat": 4,
  "nbformat_minor": 0,
  "metadata": {
    "colab": {
      "provenance": []
    },
    "kernelspec": {
      "name": "python3",
      "display_name": "Python 3"
    },
    "language_info": {
      "name": "python"
    }
  },
  "cells": [
    {
      "cell_type": "code",
      "execution_count": 1,
      "metadata": {
        "colab": {
          "base_uri": "https://localhost:8080/"
        },
        "id": "ljz72XiGfUe8",
        "outputId": "fb0e5409-7ad3-4838-b74e-b7c56e9e0f02"
      },
      "outputs": [
        {
          "output_type": "stream",
          "name": "stdout",
          "text": [
            "Cloning into 'PH-kmeans'...\n",
            "remote: Enumerating objects: 72, done.\u001b[K\n",
            "remote: Counting objects: 100% (72/72), done.\u001b[K\n",
            "remote: Compressing objects: 100% (60/60), done.\u001b[K\n",
            "remote: Total 72 (delta 32), reused 23 (delta 9), pack-reused 0\u001b[K\n",
            "Unpacking objects: 100% (72/72), done.\n"
          ]
        }
      ],
      "source": [
        "!git clone https://github.com/Mojtabamehrabi/PH-kmeans.git"
      ]
    },
    {
      "cell_type": "code",
      "source": [
        "# imports\n",
        "import numpy as np\n",
        "import pandas as pd\n",
        "from statistics import mean\n",
        "from PHkmeans.src.data_utils.generate_synthetic_data import make_point_clouds\n",
        "from gtda.homology import VietorisRipsPersistence\n",
        "from PHkmeans.src.data_utils.vectorisation_methods import get_persistence_landscapes, get_betti_curves, get_persistence_images\n",
        "from sklearn.cluster import KMeans\n",
        "from sklearn.metrics import adjusted_rand_score\n",
        "\n",
        "import warnings\n",
        "warnings.filterwarnings(\"ignore\")"
      ],
      "metadata": {
        "id": "s8YUC_itfsBZ"
      },
      "execution_count": 9,
      "outputs": []
    },
    {
      "cell_type": "code",
      "source": [
        "!pip install pdpm pot gudhi"
      ],
      "metadata": {
        "colab": {
          "base_uri": "https://localhost:8080/"
        },
        "id": "-_Rumg9ogJsI",
        "outputId": "5e95db2c-9c8c-414f-b4dc-e360014c8807"
      },
      "execution_count": 6,
      "outputs": [
        {
          "output_type": "stream",
          "name": "stdout",
          "text": [
            "Looking in indexes: https://pypi.org/simple, https://us-python.pkg.dev/colab-wheels/public/simple/\n",
            "Requirement already satisfied: pdpm in /usr/local/lib/python3.8/dist-packages (0.1.1)\n",
            "Requirement already satisfied: pot in /usr/local/lib/python3.8/dist-packages (0.8.2)\n",
            "Requirement already satisfied: gudhi in /usr/local/lib/python3.8/dist-packages (3.7.1)\n",
            "Requirement already satisfied: Click in /usr/local/lib/python3.8/dist-packages (from pdpm) (7.1.2)\n",
            "Requirement already satisfied: scipy>=1.0 in /usr/local/lib/python3.8/dist-packages (from pot) (1.7.3)\n",
            "Requirement already satisfied: numpy>=1.16 in /usr/local/lib/python3.8/dist-packages (from pot) (1.21.6)\n"
          ]
        }
      ]
    },
    {
      "cell_type": "code",
      "source": [
        "!python -m pip install -U giotto-tda"
      ],
      "metadata": {
        "colab": {
          "base_uri": "https://localhost:8080/"
        },
        "id": "csy4jsRcgRXF",
        "outputId": "9224ad29-8a7b-4a55-f214-f9f8358d58fc"
      },
      "execution_count": 7,
      "outputs": [
        {
          "output_type": "stream",
          "name": "stdout",
          "text": [
            "Looking in indexes: https://pypi.org/simple, https://us-python.pkg.dev/colab-wheels/public/simple/\n",
            "Requirement already satisfied: giotto-tda in /usr/local/lib/python3.8/dist-packages (0.6.0)\n",
            "Requirement already satisfied: plotly>=4.8.2 in /usr/local/lib/python3.8/dist-packages (from giotto-tda) (5.5.0)\n",
            "Requirement already satisfied: scipy>=1.5.0 in /usr/local/lib/python3.8/dist-packages (from giotto-tda) (1.7.3)\n",
            "Requirement already satisfied: ipywidgets>=7.5.1 in /usr/local/lib/python3.8/dist-packages (from giotto-tda) (7.7.1)\n",
            "Requirement already satisfied: pyflagser>=0.4.3 in /usr/local/lib/python3.8/dist-packages (from giotto-tda) (0.4.5)\n",
            "Requirement already satisfied: joblib>=0.16.0 in /usr/local/lib/python3.8/dist-packages (from giotto-tda) (1.2.0)\n",
            "Requirement already satisfied: numpy>=1.19.1 in /usr/local/lib/python3.8/dist-packages (from giotto-tda) (1.21.6)\n",
            "Requirement already satisfied: igraph>=0.9.8 in /usr/local/lib/python3.8/dist-packages (from giotto-tda) (0.10.3)\n",
            "Requirement already satisfied: giotto-ph>=0.2.1 in /usr/local/lib/python3.8/dist-packages (from giotto-tda) (0.2.2)\n",
            "Requirement already satisfied: scikit-learn>=0.23.1 in /usr/local/lib/python3.8/dist-packages (from giotto-tda) (1.0.2)\n",
            "Requirement already satisfied: texttable>=1.6.2 in /usr/local/lib/python3.8/dist-packages (from igraph>=0.9.8->giotto-tda) (1.6.7)\n",
            "Requirement already satisfied: ipython>=4.0.0 in /usr/local/lib/python3.8/dist-packages (from ipywidgets>=7.5.1->giotto-tda) (7.9.0)\n",
            "Requirement already satisfied: ipykernel>=4.5.1 in /usr/local/lib/python3.8/dist-packages (from ipywidgets>=7.5.1->giotto-tda) (5.3.4)\n",
            "Requirement already satisfied: jupyterlab-widgets>=1.0.0 in /usr/local/lib/python3.8/dist-packages (from ipywidgets>=7.5.1->giotto-tda) (3.0.5)\n",
            "Requirement already satisfied: traitlets>=4.3.1 in /usr/local/lib/python3.8/dist-packages (from ipywidgets>=7.5.1->giotto-tda) (5.7.1)\n",
            "Requirement already satisfied: widgetsnbextension~=3.6.0 in /usr/local/lib/python3.8/dist-packages (from ipywidgets>=7.5.1->giotto-tda) (3.6.1)\n",
            "Requirement already satisfied: ipython-genutils~=0.2.0 in /usr/local/lib/python3.8/dist-packages (from ipywidgets>=7.5.1->giotto-tda) (0.2.0)\n",
            "Requirement already satisfied: tenacity>=6.2.0 in /usr/local/lib/python3.8/dist-packages (from plotly>=4.8.2->giotto-tda) (8.1.0)\n",
            "Requirement already satisfied: six in /usr/local/lib/python3.8/dist-packages (from plotly>=4.8.2->giotto-tda) (1.15.0)\n",
            "Requirement already satisfied: threadpoolctl>=2.0.0 in /usr/local/lib/python3.8/dist-packages (from scikit-learn>=0.23.1->giotto-tda) (3.1.0)\n",
            "Requirement already satisfied: tornado>=4.2 in /usr/local/lib/python3.8/dist-packages (from ipykernel>=4.5.1->ipywidgets>=7.5.1->giotto-tda) (6.0.4)\n",
            "Requirement already satisfied: jupyter-client in /usr/local/lib/python3.8/dist-packages (from ipykernel>=4.5.1->ipywidgets>=7.5.1->giotto-tda) (6.1.12)\n",
            "Requirement already satisfied: pygments in /usr/local/lib/python3.8/dist-packages (from ipython>=4.0.0->ipywidgets>=7.5.1->giotto-tda) (2.6.1)\n",
            "Requirement already satisfied: pickleshare in /usr/local/lib/python3.8/dist-packages (from ipython>=4.0.0->ipywidgets>=7.5.1->giotto-tda) (0.7.5)\n",
            "Requirement already satisfied: pexpect in /usr/local/lib/python3.8/dist-packages (from ipython>=4.0.0->ipywidgets>=7.5.1->giotto-tda) (4.8.0)\n",
            "Requirement already satisfied: backcall in /usr/local/lib/python3.8/dist-packages (from ipython>=4.0.0->ipywidgets>=7.5.1->giotto-tda) (0.2.0)\n",
            "Requirement already satisfied: prompt-toolkit<2.1.0,>=2.0.0 in /usr/local/lib/python3.8/dist-packages (from ipython>=4.0.0->ipywidgets>=7.5.1->giotto-tda) (2.0.10)\n",
            "Requirement already satisfied: jedi>=0.10 in /usr/local/lib/python3.8/dist-packages (from ipython>=4.0.0->ipywidgets>=7.5.1->giotto-tda) (0.18.2)\n",
            "Requirement already satisfied: setuptools>=18.5 in /usr/local/lib/python3.8/dist-packages (from ipython>=4.0.0->ipywidgets>=7.5.1->giotto-tda) (57.4.0)\n",
            "Requirement already satisfied: decorator in /usr/local/lib/python3.8/dist-packages (from ipython>=4.0.0->ipywidgets>=7.5.1->giotto-tda) (4.4.2)\n",
            "Requirement already satisfied: notebook>=4.4.1 in /usr/local/lib/python3.8/dist-packages (from widgetsnbextension~=3.6.0->ipywidgets>=7.5.1->giotto-tda) (5.7.16)\n",
            "Requirement already satisfied: parso<0.9.0,>=0.8.0 in /usr/local/lib/python3.8/dist-packages (from jedi>=0.10->ipython>=4.0.0->ipywidgets>=7.5.1->giotto-tda) (0.8.3)\n",
            "Requirement already satisfied: jupyter-core>=4.4.0 in /usr/local/lib/python3.8/dist-packages (from notebook>=4.4.1->widgetsnbextension~=3.6.0->ipywidgets>=7.5.1->giotto-tda) (5.1.2)\n",
            "Requirement already satisfied: nbconvert<6.0 in /usr/local/lib/python3.8/dist-packages (from notebook>=4.4.1->widgetsnbextension~=3.6.0->ipywidgets>=7.5.1->giotto-tda) (5.6.1)\n",
            "Requirement already satisfied: prometheus-client in /usr/local/lib/python3.8/dist-packages (from notebook>=4.4.1->widgetsnbextension~=3.6.0->ipywidgets>=7.5.1->giotto-tda) (0.15.0)\n",
            "Requirement already satisfied: jinja2<=3.0.0 in /usr/local/lib/python3.8/dist-packages (from notebook>=4.4.1->widgetsnbextension~=3.6.0->ipywidgets>=7.5.1->giotto-tda) (2.11.3)\n",
            "Requirement already satisfied: terminado>=0.8.1 in /usr/local/lib/python3.8/dist-packages (from notebook>=4.4.1->widgetsnbextension~=3.6.0->ipywidgets>=7.5.1->giotto-tda) (0.13.3)\n",
            "Requirement already satisfied: Send2Trash in /usr/local/lib/python3.8/dist-packages (from notebook>=4.4.1->widgetsnbextension~=3.6.0->ipywidgets>=7.5.1->giotto-tda) (1.8.0)\n",
            "Requirement already satisfied: nbformat in /usr/local/lib/python3.8/dist-packages (from notebook>=4.4.1->widgetsnbextension~=3.6.0->ipywidgets>=7.5.1->giotto-tda) (5.7.1)\n",
            "Requirement already satisfied: pyzmq>=17 in /usr/local/lib/python3.8/dist-packages (from notebook>=4.4.1->widgetsnbextension~=3.6.0->ipywidgets>=7.5.1->giotto-tda) (23.2.1)\n",
            "Requirement already satisfied: python-dateutil>=2.1 in /usr/local/lib/python3.8/dist-packages (from jupyter-client->ipykernel>=4.5.1->ipywidgets>=7.5.1->giotto-tda) (2.8.2)\n",
            "Requirement already satisfied: wcwidth in /usr/local/lib/python3.8/dist-packages (from prompt-toolkit<2.1.0,>=2.0.0->ipython>=4.0.0->ipywidgets>=7.5.1->giotto-tda) (0.2.5)\n",
            "Requirement already satisfied: ptyprocess>=0.5 in /usr/local/lib/python3.8/dist-packages (from pexpect->ipython>=4.0.0->ipywidgets>=7.5.1->giotto-tda) (0.7.0)\n",
            "Requirement already satisfied: MarkupSafe>=0.23 in /usr/local/lib/python3.8/dist-packages (from jinja2<=3.0.0->notebook>=4.4.1->widgetsnbextension~=3.6.0->ipywidgets>=7.5.1->giotto-tda) (2.0.1)\n",
            "Requirement already satisfied: platformdirs>=2.5 in /usr/local/lib/python3.8/dist-packages (from jupyter-core>=4.4.0->notebook>=4.4.1->widgetsnbextension~=3.6.0->ipywidgets>=7.5.1->giotto-tda) (2.6.2)\n",
            "Requirement already satisfied: bleach in /usr/local/lib/python3.8/dist-packages (from nbconvert<6.0->notebook>=4.4.1->widgetsnbextension~=3.6.0->ipywidgets>=7.5.1->giotto-tda) (5.0.1)\n",
            "Requirement already satisfied: entrypoints>=0.2.2 in /usr/local/lib/python3.8/dist-packages (from nbconvert<6.0->notebook>=4.4.1->widgetsnbextension~=3.6.0->ipywidgets>=7.5.1->giotto-tda) (0.4)\n",
            "Requirement already satisfied: defusedxml in /usr/local/lib/python3.8/dist-packages (from nbconvert<6.0->notebook>=4.4.1->widgetsnbextension~=3.6.0->ipywidgets>=7.5.1->giotto-tda) (0.7.1)\n",
            "Requirement already satisfied: testpath in /usr/local/lib/python3.8/dist-packages (from nbconvert<6.0->notebook>=4.4.1->widgetsnbextension~=3.6.0->ipywidgets>=7.5.1->giotto-tda) (0.6.0)\n",
            "Requirement already satisfied: mistune<2,>=0.8.1 in /usr/local/lib/python3.8/dist-packages (from nbconvert<6.0->notebook>=4.4.1->widgetsnbextension~=3.6.0->ipywidgets>=7.5.1->giotto-tda) (0.8.4)\n",
            "Requirement already satisfied: pandocfilters>=1.4.1 in /usr/local/lib/python3.8/dist-packages (from nbconvert<6.0->notebook>=4.4.1->widgetsnbextension~=3.6.0->ipywidgets>=7.5.1->giotto-tda) (1.5.0)\n",
            "Requirement already satisfied: fastjsonschema in /usr/local/lib/python3.8/dist-packages (from nbformat->notebook>=4.4.1->widgetsnbextension~=3.6.0->ipywidgets>=7.5.1->giotto-tda) (2.16.2)\n",
            "Requirement already satisfied: jsonschema>=2.6 in /usr/local/lib/python3.8/dist-packages (from nbformat->notebook>=4.4.1->widgetsnbextension~=3.6.0->ipywidgets>=7.5.1->giotto-tda) (4.3.3)\n",
            "Requirement already satisfied: pyrsistent!=0.17.0,!=0.17.1,!=0.17.2,>=0.14.0 in /usr/local/lib/python3.8/dist-packages (from jsonschema>=2.6->nbformat->notebook>=4.4.1->widgetsnbextension~=3.6.0->ipywidgets>=7.5.1->giotto-tda) (0.19.3)\n",
            "Requirement already satisfied: attrs>=17.4.0 in /usr/local/lib/python3.8/dist-packages (from jsonschema>=2.6->nbformat->notebook>=4.4.1->widgetsnbextension~=3.6.0->ipywidgets>=7.5.1->giotto-tda) (22.2.0)\n",
            "Requirement already satisfied: importlib-resources>=1.4.0 in /usr/local/lib/python3.8/dist-packages (from jsonschema>=2.6->nbformat->notebook>=4.4.1->widgetsnbextension~=3.6.0->ipywidgets>=7.5.1->giotto-tda) (5.10.2)\n",
            "Requirement already satisfied: webencodings in /usr/local/lib/python3.8/dist-packages (from bleach->nbconvert<6.0->notebook>=4.4.1->widgetsnbextension~=3.6.0->ipywidgets>=7.5.1->giotto-tda) (0.5.1)\n",
            "Requirement already satisfied: zipp>=3.1.0 in /usr/local/lib/python3.8/dist-packages (from importlib-resources>=1.4.0->jsonschema>=2.6->nbformat->notebook>=4.4.1->widgetsnbextension~=3.6.0->ipywidgets>=7.5.1->giotto-tda) (3.11.0)\n"
          ]
        }
      ]
    },
    {
      "cell_type": "code",
      "source": [
        "noise = [0, 1, 2, 3, 4, 5, 10]\n",
        "n_samples_per_class = 10          #sample =  نمونه\n",
        "homology_dimensions = [0, 1, 2]    #dimensions = ابعاد\n",
        "n_clusters = 3\n",
        "\n",
        "landscape_rand = [None] * len(noise)  #landscape = چشم انداز\n",
        "betti_rand = [None] * len(noise)\n",
        "image_rand = [None] * len(noise)\n",
        "\n",
        "km = KMeans(n_clusters=3, init='k-means++')\n",
        "\n",
        "for i, n in enumerate(noise):\n",
        "    # Create synthetic data of 10 samples of 4 classes, circles, spheres, tori and random point clouds\n",
        "    #ایجاد داده های مصنوعی از 10 نمونه از 4 کلاس، دایره، کره، توری و ابرهای نقطه تصادفی\n",
        "    point_clouds, labels = make_point_clouds(n_samples_per_class, n_points=10, noise=n)\n",
        "    # Compute persistence diagrams\n",
        "    #محاسبه نمودارهای پایداری\n",
        "    VR = VietorisRipsPersistence(homology_dimensions=homology_dimensions)\n",
        "    diagrams = VR.fit_transform(point_clouds)\n",
        "    # Compute persistence landscapes\n",
        "    #مناظر پایداری را محاسبه کنید\n",
        "    p_landscapes = get_persistence_landscapes(point_clouds, diagrams, n_layers=2, n_bins=50)\n",
        "    # Compute betti curves\n",
        "    # منحنی های بتی را محاسبه کنید\n",
        "    betti_curves = get_betti_curves(point_clouds, diagrams, n_bins=100)\n",
        "    # Compute persistence images\n",
        "    #محاسبه تصاویر ماندگاری\n",
        "    p_images = get_persistence_images(point_clouds, diagrams, n_bins=10)\n",
        "    # predict labels\n",
        "    #  برچسب ها را پیش بینی کنید  \n",
        "    landscape_preds = km.fit_predict(p_landscapes)\n",
        "    betti_preds = km.fit_predict(betti_curves)\n",
        "    image_preds = km.fit_predict(p_images)\n",
        "    # Compute rand score for each clustering\n",
        "    # محاسبه امتیاز رند برای هر خوشه\n",
        "    landscape_rand[i] = adjusted_rand_score(labels, landscape_preds)\n",
        "    betti_rand[i] = adjusted_rand_score(labels, betti_preds)\n",
        "    image_rand[i] = adjusted_rand_score(labels, image_preds)\n",
        "\n",
        "# print ARI scores in table\n",
        "# نمرات ARI را در جدول چاپ کنید\n",
        "vector_scores = pd.DataFrame({'noise': noise,\n",
        "                              'PL score': landscape_rand,\n",
        "                              'PI score': image_rand,\n",
        "                              'BC_score': betti_rand}).set_index('noise')\n",
        "print(vector_scores)"
      ],
      "metadata": {
        "colab": {
          "base_uri": "https://localhost:8080/"
        },
        "id": "ud3hFfAqgipd",
        "outputId": "8c0d5d9d-9059-42c7-cf1f-9d5a671ebb09"
      },
      "execution_count": 10,
      "outputs": [
        {
          "output_type": "stream",
          "name": "stdout",
          "text": [
            "       PL score  PI score  BC_score\n",
            "noise                              \n",
            "0      1.000000  1.000000  1.000000\n",
            "1      1.000000  0.808229  0.209995\n",
            "2      1.000000  1.000000  0.094252\n",
            "3      0.717099  0.468058  0.160084\n",
            "4      0.808229  1.000000  0.226667\n",
            "5      0.806667  0.731042  0.408804\n",
            "10     0.552535  0.440262  0.236702\n"
          ]
        }
      ]
    },
    {
      "cell_type": "code",
      "source": [
        "def persistence_comparison(homology_dimensions: list, noise: int, iters: int):\n",
        "    comparison = []\n",
        "    landscape_scores = []\n",
        "    image_scores = []\n",
        "    # calculate\n",
        "    for _ in range(iters):\n",
        "        # initialise Persistent Homology\n",
        "        #همسانی پایدار را راه اندازی کنید\n",
        "        VR = VietorisRipsPersistence(homology_dimensions=homology_dimensions)\n",
        "        # generate data with set noise level\n",
        "        # تولید داده با سطح نویز تنظیم شده\n",
        "        point_clouds, labels = make_point_clouds(n_samples_per_class, n_points=10, noise=noise)\n",
        "        # create persistence diagrams\n",
        "        # ایجاد نمودارهای ماندگاری\n",
        "        diagrams = VR.fit_transform(point_clouds)\n",
        "        # create persistence landscape and image vectors\n",
        "        # بردارهای منظره و تصویر ماندگار ایجاد کنید\n",
        "        p_landscapes = get_persistence_landscapes(point_clouds=point_clouds,\n",
        "                                                  persistence_diagrams=diagrams,\n",
        "                                                  n_layers=2,\n",
        "                                                  n_bins=50)\n",
        "        p_images = get_persistence_images(point_clouds=point_clouds,\n",
        "                                          persistence_diagrams=diagrams,\n",
        "                                          n_bins=10)\n",
        "        # cluster based on vectors\n",
        "        # خوشه بر اساس بردارها\n",
        "        landscape_preds =  km.fit_predict(p_landscapes)\n",
        "        image_preds = km.fit_predict(p_images)\n",
        "        # calculate adjusted rand score for each vectorization\n",
        "        # محاسبه امتیاز رند تعدیل شده برای هر برداری\n",
        "        landscape_score = adjusted_rand_score(labels, landscape_preds)\n",
        "        image_score = adjusted_rand_score(labels, image_preds)\n",
        "        # append scores to list\n",
        "        # نمرات را به لیست اضافه کنید\n",
        "        landscape_scores.append(landscape_score)\n",
        "        image_scores.append(image_score)\n",
        "        # append 1 if PLs outperform PIs\n",
        "        # ضمیمه 1 اگر   PL ها عملکرد بهتری از   PI دارند\n",
        "        if image_score < landscape_score:\n",
        "            comparison.append(1)\n",
        "        else:\n",
        "            comparison.append(0)\n",
        "    print(f\"For noise = {noise}, persistence landscapes outperform persistence images \"\n",
        "          f\"{round(mean(comparison) * 100, 2)}% of the time.\")\n",
        "    print(f\" Average Adjusted Rand Score for Persistence Landscapes: {round(mean(landscape_scores), 3)}\")\n",
        "    print(f\" Std. Adjusted Rand Score for Persistence Landscapes: {round(np.std(landscape_scores), 3)}\")\n",
        "    print(f\" Average Adjusted Rand Score for Persistence Images: {round(mean(image_scores), 3)}\")\n",
        "    print(f\" Std. Adjusted Rand Score for Persistence Images: {round(np.std(image_scores), 3)}\")"
      ],
      "metadata": {
        "id": "omKHnrmuhJEs"
      },
      "execution_count": 11,
      "outputs": []
    },
    {
      "cell_type": "code",
      "source": [
        "persistence_comparison(homology_dimensions=[0, 1, 2], noise=1.0, iters=100)"
      ],
      "metadata": {
        "colab": {
          "base_uri": "https://localhost:8080/"
        },
        "id": "L0pTzylMhVIS",
        "outputId": "5560bd8b-c566-4857-cc3b-51f194b60b2c"
      },
      "execution_count": 12,
      "outputs": [
        {
          "output_type": "stream",
          "name": "stdout",
          "text": [
            "For noise = 1.0, persistence landscapes outperform persistence images 63.0% of the time.\n",
            " Average Adjusted Rand Score for Persistence Landscapes: 0.998\n",
            " Std. Adjusted Rand Score for Persistence Landscapes: 0.014\n",
            " Average Adjusted Rand Score for Persistence Images: 0.898\n",
            " Std. Adjusted Rand Score for Persistence Images: 0.096\n"
          ]
        }
      ]
    },
    {
      "cell_type": "code",
      "source": [
        "from PHkmeans.src.pd_pm_kmeans import PD_KMeans, PM_KMeans\n",
        "from PHkmeans.src.data_utils.pd_pm_methods import *\n",
        "\n",
        "\n",
        "  # Create simulated data\n",
        "#ایجاد داده های شبیه سازی شده\n",
        "point_clouds, labels = make_point_clouds(n_samples_per_class, n_points=10, noise=1.0)\n",
        "\n",
        "# Create PDs from simulated data\n",
        "# PD ها را از داده های شبیه سازی شده ایجاد کنید\n",
        "diagrams = []\n",
        "\n",
        "for pc in point_clouds:\n",
        "    norm_pc = normalise_pc(pc)\n",
        "    diag = get_pd(norm_pc)\n",
        "    diagrams.append(diag)\n",
        "\n",
        "    # Clustering in Persistence Diagram Space\n",
        "#خوشه بندی در فضای نمودار پایداری\n",
        "km = PD_KMeans(n_clusters=3, init='kmeans++', random_state=123)\n",
        "pd_preds = km.fit(diagrams)\n",
        "print(f'PD ARI score: {adjusted_rand_score(labels, pd_preds)}') "
      ],
      "metadata": {
        "colab": {
          "base_uri": "https://localhost:8080/"
        },
        "id": "S8XAiqLKiH6W",
        "outputId": "99d854ae-ecf6-4cff-db68-a2ed9e463106"
      },
      "execution_count": 13,
      "outputs": [
        {
          "output_type": "stream",
          "name": "stdout",
          "text": [
            "PD ARI score: 1.0\n"
          ]
        }
      ]
    },
    {
      "cell_type": "code",
      "source": [
        "# get appropriate grid_width from list of PDs\n",
        "#عرض _ شبکه مناسب را از لیست  PD ها دریافت کنید\n",
        "grid_width = get_grid_width(diagrams)\n",
        "\n",
        "# create list of PMs from PDs\n",
        "# بسازید لیستی از pm ها از pd ها\n",
        "mesrs = []\n",
        "for diag in diagrams:\n",
        "    concat_diag = np.concatenate(diag)\n",
        "    mesr, _ = diag_to_mesr(concat_diag, unit_mass=1, grid_width=grid_width)\n",
        "    mesrs.append(mesr)\n",
        "\n",
        "pm_km = PM_KMeans(n_clusters=3, init='kmeans++', grid_width=grid_width)\n",
        "pm_preds = pm_km.fit(mesrs)\n",
        "\n",
        "print(f'PM ARI Score: {adjusted_rand_score(labels, pm_preds)}')"
      ],
      "metadata": {
        "colab": {
          "base_uri": "https://localhost:8080/"
        },
        "id": "5_Sj9L93ibmv",
        "outputId": "fb74e326-2fd2-4328-8b49-60926a0cfe82"
      },
      "execution_count": 14,
      "outputs": [
        {
          "output_type": "stream",
          "name": "stdout",
          "text": [
            "PM ARI Score: 0.8981703936425799\n"
          ]
        }
      ]
    }
  ]
}