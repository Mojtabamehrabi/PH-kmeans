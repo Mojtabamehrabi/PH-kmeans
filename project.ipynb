{
  "nbformat": 4,
  "nbformat_minor": 0,
  "metadata": {
    "colab": {
      "provenance": []
    },
    "kernelspec": {
      "name": "python3",
      "display_name": "Python 3"
    },
    "language_info": {
      "name": "python"
    },
    "accelerator": "GPU",
    "gpuClass": "standard"
  },
  "cells": [
    {
      "cell_type": "code",
      "execution_count": null,
      "metadata": {
        "colab": {
          "base_uri": "https://localhost:8080/"
        },
        "id": "uq-EA36blvuf",
        "outputId": "f228f643-f8c9-4f17-bb21-19aba4115c73"
      },
      "outputs": [
        {
          "output_type": "stream",
          "name": "stdout",
          "text": [
            "Cloning into 'PH-kmeans'...\n",
            "remote: Enumerating objects: 54, done.\u001b[K\n",
            "remote: Counting objects: 100% (54/54), done.\u001b[K\n",
            "remote: Compressing objects: 100% (42/42), done.\u001b[K\n",
            "remote: Total 54 (delta 20), reused 26 (delta 9), pack-reused 0\u001b[K\n",
            "Unpacking objects: 100% (54/54), done.\n"
          ]
        }
      ],
      "source": [
        "!git clone https://github.com/pruskileung/PH-kmeans.git"
      ]
    },
    {
      "cell_type": "code",
      "source": [
        "# imports\n",
        "import numpy as np\n",
        "import pandas as pd\n",
        "from statistics import mean\n",
        "from PHkmeans.src.data_utils.generate_synthetic_data import make_point_clouds\n",
        "from gtda.homology import VietorisRipsPersistence\n",
        "from PHkmeans.src.data_utils.vectorisation_methods import get_persistence_landscapes, get_betti_curves, get_persistence_images\n",
        "from sklearn.cluster import KMeans\n",
        "from sklearn.metrics import adjusted_rand_score\n",
        "\n",
        "import warnings\n",
        "warnings.filterwarnings(\"ignore\")\n",
        "\n",
        "# Initiate parameters for clustering with varying noise\n",
        "noise = [0, 1, 2, 3, 4, 5, 10]\n",
        "n_samples_per_class = 10\n",
        "homology_dimensions = [0, 1, 2]\n",
        "n_clusters = 3\n",
        "\n",
        "landscape_rand = [None] * len(noise)\n",
        "betti_rand = [None] * len(noise)\n",
        "image_rand = [None] * len(noise)\n",
        "\n",
        "km = KMeans(n_clusters=3, init='k-means++')\n",
        "\n",
        "# calculate adjusted rand scores for clustering of data with varying noise\n",
        "for i, n in enumerate(noise):\n",
        "    # Create synthetic data of 10 samples of 4 classes, circles, spheres, tori and random point clouds\n",
        "    point_clouds, labels = make_point_clouds(n_samples_per_class, n_points=10, noise=n)\n",
        "    # Compute persistence diagrams\n",
        "    VR = VietorisRipsPersistence(homology_dimensions=homology_dimensions)\n",
        "    diagrams = VR.fit_transform(point_clouds)\n",
        "    # Compute persistence landscapes\n",
        "    p_landscapes = get_persistence_landscapes(point_clouds, diagrams, n_layers=2, n_bins=50)\n",
        "    # Compute betti curves\n",
        "    betti_curves = get_betti_curves(point_clouds, diagrams, n_bins=100)\n",
        "    # Compute persistence images\n",
        "    p_images = get_persistence_images(point_clouds, diagrams, n_bins=10)\n",
        "    # predict labels\n",
        "    landscape_preds = km.fit_predict(p_landscapes)\n",
        "    betti_preds = km.fit_predict(betti_curves)\n",
        "    image_preds = km.fit_predict(p_images)\n",
        "    # Compute rand score for each clustering\n",
        "    landscape_rand[i] = adjusted_rand_score(labels, landscape_preds)\n",
        "    betti_rand[i] = adjusted_rand_score(labels, betti_preds)\n",
        "    image_rand[i] = adjusted_rand_score(labels, image_preds)\n",
        "\n",
        "# print ARI scores in table\n",
        "vector_scores = pd.DataFrame({'noise': noise,\n",
        "                              'PL score': landscape_rand,\n",
        "                              'PI score': image_rand,\n",
        "                              'BC_score': betti_rand}).set_index('noise')\n",
        "print(vector_scores)\n"
      ],
      "metadata": {
        "colab": {
          "base_uri": "https://localhost:8080/"
        },
        "id": "di-hIbnTmg-m",
        "outputId": "0a70b121-e0ab-45df-e497-b0e6b5fd1abc"
      },
      "execution_count": null,
      "outputs": [
        {
          "output_type": "stream",
          "name": "stdout",
          "text": [
            "       PL score  PI score  BC_score\n",
            "noise                              \n",
            "0      1.000000  1.000000  1.000000\n",
            "1      1.000000  0.731042  0.274603\n",
            "2      1.000000  1.000000  0.199531\n",
            "3      1.000000  0.898170  0.292683\n",
            "4      0.898170  0.440262  0.096373\n",
            "5      0.491401  0.731042  0.242941\n",
            "10     0.555649  0.417671  0.248073\n"
          ]
        }
      ]
    },
    {
      "cell_type": "code",
      "source": [
        "!python -m pip install -U giotto-tda"
      ],
      "metadata": {
        "colab": {
          "base_uri": "https://localhost:8080/"
        },
        "id": "_T4-vtvfbLTx",
        "outputId": "443ac34a-926e-45a6-8da1-d47d55fecef8"
      },
      "execution_count": null,
      "outputs": [
        {
          "output_type": "stream",
          "name": "stdout",
          "text": [
            "Looking in indexes: https://pypi.org/simple, https://us-python.pkg.dev/colab-wheels/public/simple/\n",
            "Collecting giotto-tda\n",
            "  Downloading giotto_tda-0.6.0-cp38-cp38-manylinux_2_17_x86_64.manylinux2014_x86_64.whl (1.3 MB)\n",
            "\u001b[K     |████████████████████████████████| 1.3 MB 5.1 MB/s \n",
            "\u001b[?25hRequirement already satisfied: plotly>=4.8.2 in /usr/local/lib/python3.8/dist-packages (from giotto-tda) (5.5.0)\n",
            "Requirement already satisfied: ipywidgets>=7.5.1 in /usr/local/lib/python3.8/dist-packages (from giotto-tda) (7.7.1)\n",
            "Requirement already satisfied: numpy>=1.19.1 in /usr/local/lib/python3.8/dist-packages (from giotto-tda) (1.21.6)\n",
            "Collecting giotto-ph>=0.2.1\n",
            "  Downloading giotto_ph-0.2.2-cp38-cp38-manylinux_2_17_x86_64.manylinux2014_x86_64.whl (526 kB)\n",
            "\u001b[K     |████████████████████████████████| 526 kB 69.1 MB/s \n",
            "\u001b[?25hRequirement already satisfied: joblib>=0.16.0 in /usr/local/lib/python3.8/dist-packages (from giotto-tda) (1.2.0)\n",
            "Collecting pyflagser>=0.4.3\n",
            "  Downloading pyflagser-0.4.5-cp38-cp38-manylinux_2_17_x86_64.manylinux2014_x86_64.whl (452 kB)\n",
            "\u001b[K     |████████████████████████████████| 452 kB 65.7 MB/s \n",
            "\u001b[?25hCollecting igraph>=0.9.8\n",
            "  Downloading igraph-0.10.2-cp38-cp38-manylinux_2_17_x86_64.manylinux2014_x86_64.whl (3.3 MB)\n",
            "\u001b[K     |████████████████████████████████| 3.3 MB 62.0 MB/s \n",
            "\u001b[?25hRequirement already satisfied: scikit-learn>=0.23.1 in /usr/local/lib/python3.8/dist-packages (from giotto-tda) (1.0.2)\n",
            "Requirement already satisfied: scipy>=1.5.0 in /usr/local/lib/python3.8/dist-packages (from giotto-tda) (1.7.3)\n",
            "Collecting texttable>=1.6.2\n",
            "  Downloading texttable-1.6.7-py2.py3-none-any.whl (10 kB)\n",
            "Requirement already satisfied: widgetsnbextension~=3.6.0 in /usr/local/lib/python3.8/dist-packages (from ipywidgets>=7.5.1->giotto-tda) (3.6.1)\n",
            "Requirement already satisfied: ipython>=4.0.0 in /usr/local/lib/python3.8/dist-packages (from ipywidgets>=7.5.1->giotto-tda) (7.9.0)\n",
            "Requirement already satisfied: ipython-genutils~=0.2.0 in /usr/local/lib/python3.8/dist-packages (from ipywidgets>=7.5.1->giotto-tda) (0.2.0)\n",
            "Requirement already satisfied: ipykernel>=4.5.1 in /usr/local/lib/python3.8/dist-packages (from ipywidgets>=7.5.1->giotto-tda) (5.3.4)\n",
            "Requirement already satisfied: jupyterlab-widgets>=1.0.0 in /usr/local/lib/python3.8/dist-packages (from ipywidgets>=7.5.1->giotto-tda) (3.0.3)\n",
            "Requirement already satisfied: traitlets>=4.3.1 in /usr/local/lib/python3.8/dist-packages (from ipywidgets>=7.5.1->giotto-tda) (5.6.0)\n",
            "Requirement already satisfied: jupyter-client in /usr/local/lib/python3.8/dist-packages (from ipykernel>=4.5.1->ipywidgets>=7.5.1->giotto-tda) (6.1.12)\n",
            "Requirement already satisfied: tornado>=4.2 in /usr/local/lib/python3.8/dist-packages (from ipykernel>=4.5.1->ipywidgets>=7.5.1->giotto-tda) (6.0.4)\n",
            "Requirement already satisfied: backcall in /usr/local/lib/python3.8/dist-packages (from ipython>=4.0.0->ipywidgets>=7.5.1->giotto-tda) (0.2.0)\n",
            "Requirement already satisfied: prompt-toolkit<2.1.0,>=2.0.0 in /usr/local/lib/python3.8/dist-packages (from ipython>=4.0.0->ipywidgets>=7.5.1->giotto-tda) (2.0.10)\n",
            "Requirement already satisfied: pexpect in /usr/local/lib/python3.8/dist-packages (from ipython>=4.0.0->ipywidgets>=7.5.1->giotto-tda) (4.8.0)\n",
            "Requirement already satisfied: pickleshare in /usr/local/lib/python3.8/dist-packages (from ipython>=4.0.0->ipywidgets>=7.5.1->giotto-tda) (0.7.5)\n",
            "Collecting jedi>=0.10\n",
            "  Downloading jedi-0.18.2-py2.py3-none-any.whl (1.6 MB)\n",
            "\u001b[K     |████████████████████████████████| 1.6 MB 68.6 MB/s \n",
            "\u001b[?25hRequirement already satisfied: setuptools>=18.5 in /usr/local/lib/python3.8/dist-packages (from ipython>=4.0.0->ipywidgets>=7.5.1->giotto-tda) (57.4.0)\n",
            "Requirement already satisfied: pygments in /usr/local/lib/python3.8/dist-packages (from ipython>=4.0.0->ipywidgets>=7.5.1->giotto-tda) (2.6.1)\n",
            "Requirement already satisfied: decorator in /usr/local/lib/python3.8/dist-packages (from ipython>=4.0.0->ipywidgets>=7.5.1->giotto-tda) (4.4.2)\n",
            "Requirement already satisfied: parso<0.9.0,>=0.8.0 in /usr/local/lib/python3.8/dist-packages (from jedi>=0.10->ipython>=4.0.0->ipywidgets>=7.5.1->giotto-tda) (0.8.3)\n",
            "Requirement already satisfied: tenacity>=6.2.0 in /usr/local/lib/python3.8/dist-packages (from plotly>=4.8.2->giotto-tda) (8.1.0)\n",
            "Requirement already satisfied: six in /usr/local/lib/python3.8/dist-packages (from plotly>=4.8.2->giotto-tda) (1.15.0)\n",
            "Requirement already satisfied: wcwidth in /usr/local/lib/python3.8/dist-packages (from prompt-toolkit<2.1.0,>=2.0.0->ipython>=4.0.0->ipywidgets>=7.5.1->giotto-tda) (0.2.5)\n",
            "Requirement already satisfied: threadpoolctl>=2.0.0 in /usr/local/lib/python3.8/dist-packages (from scikit-learn>=0.23.1->giotto-tda) (3.1.0)\n",
            "Requirement already satisfied: notebook>=4.4.1 in /usr/local/lib/python3.8/dist-packages (from widgetsnbextension~=3.6.0->ipywidgets>=7.5.1->giotto-tda) (5.7.16)\n",
            "Requirement already satisfied: terminado>=0.8.1 in /usr/local/lib/python3.8/dist-packages (from notebook>=4.4.1->widgetsnbextension~=3.6.0->ipywidgets>=7.5.1->giotto-tda) (0.13.3)\n",
            "Requirement already satisfied: jupyter-core>=4.4.0 in /usr/local/lib/python3.8/dist-packages (from notebook>=4.4.1->widgetsnbextension~=3.6.0->ipywidgets>=7.5.1->giotto-tda) (5.1.0)\n",
            "Requirement already satisfied: prometheus-client in /usr/local/lib/python3.8/dist-packages (from notebook>=4.4.1->widgetsnbextension~=3.6.0->ipywidgets>=7.5.1->giotto-tda) (0.15.0)\n",
            "Requirement already satisfied: nbformat in /usr/local/lib/python3.8/dist-packages (from notebook>=4.4.1->widgetsnbextension~=3.6.0->ipywidgets>=7.5.1->giotto-tda) (5.7.0)\n",
            "Requirement already satisfied: jinja2<=3.0.0 in /usr/local/lib/python3.8/dist-packages (from notebook>=4.4.1->widgetsnbextension~=3.6.0->ipywidgets>=7.5.1->giotto-tda) (2.11.3)\n",
            "Requirement already satisfied: Send2Trash in /usr/local/lib/python3.8/dist-packages (from notebook>=4.4.1->widgetsnbextension~=3.6.0->ipywidgets>=7.5.1->giotto-tda) (1.8.0)\n",
            "Requirement already satisfied: nbconvert<6.0 in /usr/local/lib/python3.8/dist-packages (from notebook>=4.4.1->widgetsnbextension~=3.6.0->ipywidgets>=7.5.1->giotto-tda) (5.6.1)\n",
            "Requirement already satisfied: pyzmq>=17 in /usr/local/lib/python3.8/dist-packages (from notebook>=4.4.1->widgetsnbextension~=3.6.0->ipywidgets>=7.5.1->giotto-tda) (23.2.1)\n",
            "Requirement already satisfied: MarkupSafe>=0.23 in /usr/local/lib/python3.8/dist-packages (from jinja2<=3.0.0->notebook>=4.4.1->widgetsnbextension~=3.6.0->ipywidgets>=7.5.1->giotto-tda) (2.0.1)\n",
            "Requirement already satisfied: python-dateutil>=2.1 in /usr/local/lib/python3.8/dist-packages (from jupyter-client->ipykernel>=4.5.1->ipywidgets>=7.5.1->giotto-tda) (2.8.2)\n",
            "Requirement already satisfied: platformdirs>=2.5 in /usr/local/lib/python3.8/dist-packages (from jupyter-core>=4.4.0->notebook>=4.4.1->widgetsnbextension~=3.6.0->ipywidgets>=7.5.1->giotto-tda) (2.5.4)\n",
            "Requirement already satisfied: pandocfilters>=1.4.1 in /usr/local/lib/python3.8/dist-packages (from nbconvert<6.0->notebook>=4.4.1->widgetsnbextension~=3.6.0->ipywidgets>=7.5.1->giotto-tda) (1.5.0)\n",
            "Requirement already satisfied: mistune<2,>=0.8.1 in /usr/local/lib/python3.8/dist-packages (from nbconvert<6.0->notebook>=4.4.1->widgetsnbextension~=3.6.0->ipywidgets>=7.5.1->giotto-tda) (0.8.4)\n",
            "Requirement already satisfied: entrypoints>=0.2.2 in /usr/local/lib/python3.8/dist-packages (from nbconvert<6.0->notebook>=4.4.1->widgetsnbextension~=3.6.0->ipywidgets>=7.5.1->giotto-tda) (0.4)\n",
            "Requirement already satisfied: bleach in /usr/local/lib/python3.8/dist-packages (from nbconvert<6.0->notebook>=4.4.1->widgetsnbextension~=3.6.0->ipywidgets>=7.5.1->giotto-tda) (5.0.1)\n",
            "Requirement already satisfied: defusedxml in /usr/local/lib/python3.8/dist-packages (from nbconvert<6.0->notebook>=4.4.1->widgetsnbextension~=3.6.0->ipywidgets>=7.5.1->giotto-tda) (0.7.1)\n",
            "Requirement already satisfied: testpath in /usr/local/lib/python3.8/dist-packages (from nbconvert<6.0->notebook>=4.4.1->widgetsnbextension~=3.6.0->ipywidgets>=7.5.1->giotto-tda) (0.6.0)\n",
            "Requirement already satisfied: jsonschema>=2.6 in /usr/local/lib/python3.8/dist-packages (from nbformat->notebook>=4.4.1->widgetsnbextension~=3.6.0->ipywidgets>=7.5.1->giotto-tda) (4.3.3)\n",
            "Requirement already satisfied: fastjsonschema in /usr/local/lib/python3.8/dist-packages (from nbformat->notebook>=4.4.1->widgetsnbextension~=3.6.0->ipywidgets>=7.5.1->giotto-tda) (2.16.2)\n",
            "Requirement already satisfied: pyrsistent!=0.17.0,!=0.17.1,!=0.17.2,>=0.14.0 in /usr/local/lib/python3.8/dist-packages (from jsonschema>=2.6->nbformat->notebook>=4.4.1->widgetsnbextension~=3.6.0->ipywidgets>=7.5.1->giotto-tda) (0.19.2)\n",
            "Requirement already satisfied: attrs>=17.4.0 in /usr/local/lib/python3.8/dist-packages (from jsonschema>=2.6->nbformat->notebook>=4.4.1->widgetsnbextension~=3.6.0->ipywidgets>=7.5.1->giotto-tda) (22.1.0)\n",
            "Requirement already satisfied: importlib-resources>=1.4.0 in /usr/local/lib/python3.8/dist-packages (from jsonschema>=2.6->nbformat->notebook>=4.4.1->widgetsnbextension~=3.6.0->ipywidgets>=7.5.1->giotto-tda) (5.10.0)\n",
            "Requirement already satisfied: zipp>=3.1.0 in /usr/local/lib/python3.8/dist-packages (from importlib-resources>=1.4.0->jsonschema>=2.6->nbformat->notebook>=4.4.1->widgetsnbextension~=3.6.0->ipywidgets>=7.5.1->giotto-tda) (3.11.0)\n",
            "Requirement already satisfied: ptyprocess in /usr/local/lib/python3.8/dist-packages (from terminado>=0.8.1->notebook>=4.4.1->widgetsnbextension~=3.6.0->ipywidgets>=7.5.1->giotto-tda) (0.7.0)\n",
            "Requirement already satisfied: webencodings in /usr/local/lib/python3.8/dist-packages (from bleach->nbconvert<6.0->notebook>=4.4.1->widgetsnbextension~=3.6.0->ipywidgets>=7.5.1->giotto-tda) (0.5.1)\n",
            "Installing collected packages: jedi, texttable, pyflagser, igraph, giotto-ph, giotto-tda\n",
            "Successfully installed giotto-ph-0.2.2 giotto-tda-0.6.0 igraph-0.10.2 jedi-0.18.2 pyflagser-0.4.5 texttable-1.6.7\n"
          ]
        }
      ]
    },
    {
      "cell_type": "code",
      "source": [
        "!pip install pdpm pot gudhi"
      ],
      "metadata": {
        "colab": {
          "base_uri": "https://localhost:8080/"
        },
        "id": "5XdMB_IXbYk6",
        "outputId": "65aec3e8-7ad0-4afd-93f4-83440196bf4f"
      },
      "execution_count": null,
      "outputs": [
        {
          "output_type": "stream",
          "name": "stdout",
          "text": [
            "Looking in indexes: https://pypi.org/simple, https://us-python.pkg.dev/colab-wheels/public/simple/\n",
            "Collecting pdpm\n",
            "  Downloading pdpm-0.1.1-py3-none-any.whl (5.2 kB)\n",
            "Collecting pot\n",
            "  Downloading POT-0.8.2-cp38-cp38-manylinux_2_12_x86_64.manylinux2010_x86_64.whl (682 kB)\n",
            "\u001b[K     |████████████████████████████████| 682 kB 5.0 MB/s \n",
            "\u001b[?25hCollecting gudhi\n",
            "  Downloading gudhi-3.6.0-cp38-cp38-manylinux_2_17_x86_64.manylinux2014_x86_64.whl (28.8 MB)\n",
            "\u001b[K     |████████████████████████████████| 28.8 MB 1.2 MB/s \n",
            "\u001b[?25hRequirement already satisfied: Click in /usr/local/lib/python3.8/dist-packages (from pdpm) (7.1.2)\n",
            "Requirement already satisfied: scipy>=1.0 in /usr/local/lib/python3.8/dist-packages (from pot) (1.7.3)\n",
            "Requirement already satisfied: numpy>=1.16 in /usr/local/lib/python3.8/dist-packages (from pot) (1.21.6)\n",
            "Installing collected packages: pot, pdpm, gudhi\n",
            "Successfully installed gudhi-3.6.0 pdpm-0.1.1 pot-0.8.2\n"
          ]
        }
      ]
    },
    {
      "cell_type": "code",
      "source": [
        "def persistence_comparison(homology_dimensions: list, noise: int, iters: int):\n",
        "    comparison = []\n",
        "    landscape_scores = []\n",
        "    image_scores = []\n",
        "    # calculate\n",
        "    for _ in range(iters):\n",
        "        # initialise Persistent Homology\n",
        "        VR = VietorisRipsPersistence(homology_dimensions=homology_dimensions)\n",
        "        # generate data with set noise level\n",
        "        point_clouds, labels = make_point_clouds(n_samples_per_class, n_points=10, noise=noise)\n",
        "        # create persistence diagrams\n",
        "        diagrams = VR.fit_transform(point_clouds)\n",
        "        # create persistence landscape and image vectors\n",
        "        p_landscapes = get_persistence_landscapes(point_clouds=point_clouds,\n",
        "                                                  persistence_diagrams=diagrams,\n",
        "                                                  n_layers=2,\n",
        "                                                  n_bins=50)\n",
        "        p_images = get_persistence_images(point_clouds=point_clouds,\n",
        "                                          persistence_diagrams=diagrams,\n",
        "                                          n_bins=10)\n",
        "        # cluster based on vectors\n",
        "        landscape_preds =  km.fit_predict(p_landscapes)\n",
        "        image_preds = km.fit_predict(p_images)\n",
        "        # calculate adjusted rand score for each vectorization\n",
        "        landscape_score = adjusted_rand_score(labels, landscape_preds)\n",
        "        image_score = adjusted_rand_score(labels, image_preds)\n",
        "        # append scores to list\n",
        "        landscape_scores.append(landscape_score)\n",
        "        image_scores.append(image_score)\n",
        "        # append 1 if PLs outperform PIs\n",
        "        if image_score < landscape_score:\n",
        "            comparison.append(1)\n",
        "        else:\n",
        "            comparison.append(0)\n",
        "    print(f\"For noise = {noise}, persistence landscapes outperform persistence images \"\n",
        "          f\"{round(mean(comparison) * 100, 2)}% of the time.\")\n",
        "    print(f\" Average Adjusted Rand Score for Persistence Landscapes: {round(mean(landscape_scores), 3)}\")\n",
        "    print(f\" Std. Adjusted Rand Score for Persistence Landscapes: {round(np.std(landscape_scores), 3)}\")\n",
        "    print(f\" Average Adjusted Rand Score for Persistence Images: {round(mean(image_scores), 3)}\")\n",
        "    print(f\" Std. Adjusted Rand Score for Persistence Images: {round(np.std(image_scores), 3)}\")\n",
        "\n",
        "    # example of persistence landscape/vector comparison for noise = 1.0\n",
        "\n",
        "persistence_comparison(homology_dimensions=[0, 1, 2], noise=1.0, iters=100)\n",
        "  "
      ],
      "metadata": {
        "colab": {
          "base_uri": "https://localhost:8080/"
        },
        "id": "gIBIdbs3Ns3c",
        "outputId": "bc4ec489-ba7a-4060-c05e-3763068b5fa2"
      },
      "execution_count": null,
      "outputs": [
        {
          "output_type": "stream",
          "name": "stdout",
          "text": [
            "For noise = 1.0, persistence landscapes outperform persistence images 65.0% of the time.\n",
            " Average Adjusted Rand Score for Persistence Landscapes: 0.999\n",
            " Std. Adjusted Rand Score for Persistence Landscapes: 0.01\n",
            " Average Adjusted Rand Score for Persistence Images: 0.899\n",
            " Std. Adjusted Rand Score for Persistence Images: 0.089\n"
          ]
        }
      ]
    },
    {
      "cell_type": "code",
      "source": [
        "from PHkmeans.src import data_utils\n",
        "from PHkmeans.src.pd_pm_kmeans import PD_KMeans, PM_KMeans\n",
        "from PHkmeans.src.data_utils.pd_pm_methods import *\n",
        "\n",
        "# Create simulated data\n",
        "point_clouds, labels = make_point_clouds(n_samples_per_class, n_points=10, noise=1.0)\n",
        "\n",
        "# Create PDs from simulated data\n",
        "diagrams = []\n",
        "\n",
        "for pc in point_clouds:\n",
        "    norm_pc = normalise_pc(pc)\n",
        "    diag = get_pd(norm_pc)\n",
        "    diagrams.append(diag)\n",
        "\n",
        "    # Clustering in Persistence Diagram Space\n",
        "km = PD_KMeans(n_clusters=3, init='kmeans++', random_state=123)\n",
        "pd_preds = km.fit(diagrams)\n",
        "print(f'PD ARI score: {adjusted_rand_score(labels, pd_preds)}')\n"
      ],
      "metadata": {
        "colab": {
          "base_uri": "https://localhost:8080/"
        },
        "id": "Ga8QqBzHODRR",
        "outputId": "5a74c4cc-dbfe-4cc5-c884-739f243f62da"
      },
      "execution_count": null,
      "outputs": [
        {
          "output_type": "stream",
          "name": "stdout",
          "text": [
            "PD ARI score: 1.0\n"
          ]
        }
      ]
    },
    {
      "cell_type": "code",
      "source": [
        "# get appropriate grid_width from list of PDs\n",
        "grid_width = get_grid_width(diagrams)\n",
        "\n",
        "# create list of PMs from PDs\n",
        "mesrs = []\n",
        "for diag in diagrams:\n",
        "    concat_diag = np.concatenate(diag)\n",
        "    mesr, _ = diag_to_mesr(concat_diag, unit_mass=1, grid_width=grid_width)\n",
        "    mesrs.append(mesr)\n",
        "\n",
        "pm_km = PM_KMeans(n_clusters=3, init='kmeans++', grid_width=grid_width)\n",
        "pm_preds = pm_km.fit(mesrs)\n",
        "\n",
        "print(f'PM ARI Score: {adjusted_rand_score(labels, pm_preds)}')"
      ],
      "metadata": {
        "colab": {
          "base_uri": "https://localhost:8080/"
        },
        "id": "O6uO00p8RVg3",
        "outputId": "7404b290-8344-4f66-b72f-61809e069283"
      },
      "execution_count": null,
      "outputs": [
        {
          "output_type": "stream",
          "name": "stdout",
          "text": [
            "PM ARI Score: 1.0\n"
          ]
        }
      ]
    },
    {
      "cell_type": "code",
      "source": [
        "!pip installpot gudhi"
      ],
      "metadata": {
        "colab": {
          "base_uri": "https://localhost:8080/"
        },
        "id": "df5fAVqPm3dc",
        "outputId": "02c5950e-171c-4cbc-cd45-2f3f2d1f86e9"
      },
      "execution_count": null,
      "outputs": [
        {
          "output_type": "stream",
          "name": "stdout",
          "text": [
            "Looking in indexes: https://pypi.org/simple, https://us-python.pkg.dev/colab-wheels/public/simple/\n",
            "Requirement already satisfied: pot in /usr/local/lib/python3.8/dist-packages (0.8.2)\n",
            "Requirement already satisfied: scipy>=1.0 in /usr/local/lib/python3.8/dist-packages (from pot) (1.7.3)\n",
            "Requirement already satisfied: numpy>=1.16 in /usr/local/lib/python3.8/dist-packages (from pot) (1.21.6)\n"
          ]
        }
      ]
    }
  ]
}